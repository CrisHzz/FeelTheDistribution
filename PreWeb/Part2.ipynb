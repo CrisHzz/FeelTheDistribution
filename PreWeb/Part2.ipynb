{
 "cells": [
  {
   "cell_type": "markdown",
   "metadata": {},
   "source": [
    "# Parte 2 del proyecto\n"
   ]
  },
  {
   "cell_type": "code",
   "execution_count": 1,
   "metadata": {},
   "outputs": [
    {
     "data": {
      "text/html": [
       "<div>\n",
       "<style scoped>\n",
       "    .dataframe tbody tr th:only-of-type {\n",
       "        vertical-align: middle;\n",
       "    }\n",
       "\n",
       "    .dataframe tbody tr th {\n",
       "        vertical-align: top;\n",
       "    }\n",
       "\n",
       "    .dataframe thead th {\n",
       "        text-align: right;\n",
       "    }\n",
       "</style>\n",
       "<table border=\"1\" class=\"dataframe\">\n",
       "  <thead>\n",
       "    <tr style=\"text-align: right;\">\n",
       "      <th></th>\n",
       "      <th>jornada</th>\n",
       "      <th>velocidad_produccion</th>\n",
       "      <th>consumo_energia</th>\n",
       "    </tr>\n",
       "  </thead>\n",
       "  <tbody>\n",
       "    <tr>\n",
       "      <th>0</th>\n",
       "      <td>1</td>\n",
       "      <td>92</td>\n",
       "      <td>126.1</td>\n",
       "    </tr>\n",
       "    <tr>\n",
       "      <th>1</th>\n",
       "      <td>2</td>\n",
       "      <td>97</td>\n",
       "      <td>127.3</td>\n",
       "    </tr>\n",
       "    <tr>\n",
       "      <th>2</th>\n",
       "      <td>3</td>\n",
       "      <td>123</td>\n",
       "      <td>148.0</td>\n",
       "    </tr>\n",
       "    <tr>\n",
       "      <th>3</th>\n",
       "      <td>4</td>\n",
       "      <td>101</td>\n",
       "      <td>144.5</td>\n",
       "    </tr>\n",
       "    <tr>\n",
       "      <th>4</th>\n",
       "      <td>5</td>\n",
       "      <td>102</td>\n",
       "      <td>129.3</td>\n",
       "    </tr>\n",
       "    <tr>\n",
       "      <th>5</th>\n",
       "      <td>6</td>\n",
       "      <td>126</td>\n",
       "      <td>166.0</td>\n",
       "    </tr>\n",
       "    <tr>\n",
       "      <th>6</th>\n",
       "      <td>7</td>\n",
       "      <td>107</td>\n",
       "      <td>120.1</td>\n",
       "    </tr>\n",
       "    <tr>\n",
       "      <th>7</th>\n",
       "      <td>8</td>\n",
       "      <td>81</td>\n",
       "      <td>120.6</td>\n",
       "    </tr>\n",
       "    <tr>\n",
       "      <th>8</th>\n",
       "      <td>9</td>\n",
       "      <td>90</td>\n",
       "      <td>123.2</td>\n",
       "    </tr>\n",
       "    <tr>\n",
       "      <th>9</th>\n",
       "      <td>10</td>\n",
       "      <td>93</td>\n",
       "      <td>126.6</td>\n",
       "    </tr>\n",
       "  </tbody>\n",
       "</table>\n",
       "</div>"
      ],
      "text/plain": [
       "   jornada  velocidad_produccion  consumo_energia\n",
       "0        1                    92            126.1\n",
       "1        2                    97            127.3\n",
       "2        3                   123            148.0\n",
       "3        4                   101            144.5\n",
       "4        5                   102            129.3\n",
       "5        6                   126            166.0\n",
       "6        7                   107            120.1\n",
       "7        8                    81            120.6\n",
       "8        9                    90            123.2\n",
       "9       10                    93            126.6"
      ]
     },
     "execution_count": 1,
     "metadata": {},
     "output_type": "execute_result"
    }
   ],
   "source": [
    "import pandas as pd\n",
    "\n",
    "dataset_general = pd.read_excel('../media/dataset_punto2.xlsx')\n",
    "\n",
    "dataset_general.head(10)\n"
   ]
  },
  {
   "cell_type": "code",
   "execution_count": 2,
   "metadata": {},
   "outputs": [
    {
     "data": {
      "text/plain": [
       "array(['jornada', 'velocidad_produccion', 'consumo_energia'], dtype=object)"
      ]
     },
     "execution_count": 2,
     "metadata": {},
     "output_type": "execute_result"
    }
   ],
   "source": [
    "dataset_general.columns.values"
   ]
  },
  {
   "cell_type": "markdown",
   "metadata": {},
   "source": [
    "### Realice un análisis descriptivo de las variables involucradas:"
   ]
  },
  {
   "cell_type": "code",
   "execution_count": 4,
   "metadata": {},
   "outputs": [
    {
     "data": {
      "text/html": [
       "<div>\n",
       "<style scoped>\n",
       "    .dataframe tbody tr th:only-of-type {\n",
       "        vertical-align: middle;\n",
       "    }\n",
       "\n",
       "    .dataframe tbody tr th {\n",
       "        vertical-align: top;\n",
       "    }\n",
       "\n",
       "    .dataframe thead th {\n",
       "        text-align: right;\n",
       "    }\n",
       "</style>\n",
       "<table border=\"1\" class=\"dataframe\">\n",
       "  <thead>\n",
       "    <tr style=\"text-align: right;\">\n",
       "      <th></th>\n",
       "      <th>velocidad_produccion (Media)</th>\n",
       "      <th>consumo_energia (Media)</th>\n",
       "      <th>velocidad_produccion (mediana)</th>\n",
       "      <th>consumo_energia (mediana)</th>\n",
       "      <th>velocidad_produccion (Moda)</th>\n",
       "      <th>consumo_energia (Moda)</th>\n",
       "    </tr>\n",
       "  </thead>\n",
       "  <tbody>\n",
       "    <tr>\n",
       "      <th>0</th>\n",
       "      <td>100.56</td>\n",
       "      <td>131.912</td>\n",
       "      <td>99.0</td>\n",
       "      <td>131.7</td>\n",
       "      <td>93.0</td>\n",
       "      <td>136.7</td>\n",
       "    </tr>\n",
       "  </tbody>\n",
       "</table>\n",
       "</div>"
      ],
      "text/plain": [
       "   velocidad_produccion (Media)  consumo_energia (Media)  \\\n",
       "0                        100.56                  131.912   \n",
       "\n",
       "   velocidad_produccion (mediana)  consumo_energia (mediana)  \\\n",
       "0                            99.0                      131.7   \n",
       "\n",
       "   velocidad_produccion (Moda)  consumo_energia (Moda)  \n",
       "0                         93.0                   136.7  "
      ]
     },
     "execution_count": 4,
     "metadata": {},
     "output_type": "execute_result"
    }
   ],
   "source": [
    "# Calcule estadísticas descriptivas para el consumo energético y la velocidad de producción\n",
    "import numpy as np\n",
    "\n",
    "import pandas as pd\n",
    "\n",
    "\n",
    "def get_mtc(dataset):\n",
    "    \n",
    "    columns = ['velocidad_produccion (Media)','consumo_energia (Media)','velocidad_produccion (mediana)','consumo_energia (mediana)','velocidad_produccion (Moda)','consumo_energia (Moda)']\n",
    "    \n",
    "    data = []\n",
    "\n",
    "    data.append(dataset['velocidad_produccion'].mean())\n",
    "    data.append(dataset['consumo_energia'].mean())\n",
    "    data.append(dataset['velocidad_produccion'].median())\n",
    "    data.append(dataset['consumo_energia'].median())\n",
    "    data.append(dataset['velocidad_produccion'].mode()[0])\n",
    "    data.append(dataset['consumo_energia'].mode()[0])\n",
    "\n",
    "\n",
    "    data = np.array(data).reshape(1,-1) #Redimensionar para quedar en el mismo tamaño de las columnas\n",
    "    \n",
    "    dataset = pd.DataFrame(data=data, columns=columns)\n",
    "\n",
    "    return dataset\n",
    "\n",
    "dataset_mtc = get_mtc(dataset_general)\n",
    "\n",
    "dataset_mtc"
   ]
  },
  {
   "cell_type": "code",
   "execution_count": 5,
   "metadata": {},
   "outputs": [
    {
     "data": {
      "text/html": [
       "<div>\n",
       "<style scoped>\n",
       "    .dataframe tbody tr th:only-of-type {\n",
       "        vertical-align: middle;\n",
       "    }\n",
       "\n",
       "    .dataframe tbody tr th {\n",
       "        vertical-align: top;\n",
       "    }\n",
       "\n",
       "    .dataframe thead th {\n",
       "        text-align: right;\n",
       "    }\n",
       "</style>\n",
       "<table border=\"1\" class=\"dataframe\">\n",
       "  <thead>\n",
       "    <tr style=\"text-align: right;\">\n",
       "      <th></th>\n",
       "      <th>velocidad_produccion (STD)</th>\n",
       "      <th>consumo_energia (STD)</th>\n",
       "      <th>velocidad_produccion (VAR)</th>\n",
       "      <th>consumo_energia (VAR)</th>\n",
       "      <th>velocidad_produccion (Range)</th>\n",
       "      <th>consumo_energia (Range)</th>\n",
       "      <th>velocidad_produccion (Cof_Var)</th>\n",
       "      <th>consumo_energia (Cof_Var)</th>\n",
       "    </tr>\n",
       "  </thead>\n",
       "  <tbody>\n",
       "    <tr>\n",
       "      <th>0</th>\n",
       "      <td>13.82863</td>\n",
       "      <td>14.037394</td>\n",
       "      <td>191.23102</td>\n",
       "      <td>197.048424</td>\n",
       "      <td>62.0</td>\n",
       "      <td>61.5</td>\n",
       "      <td>0.137516</td>\n",
       "      <td>0.106415</td>\n",
       "    </tr>\n",
       "  </tbody>\n",
       "</table>\n",
       "</div>"
      ],
      "text/plain": [
       "   velocidad_produccion (STD)  consumo_energia (STD)  \\\n",
       "0                    13.82863              14.037394   \n",
       "\n",
       "   velocidad_produccion (VAR)  consumo_energia (VAR)  \\\n",
       "0                   191.23102             197.048424   \n",
       "\n",
       "   velocidad_produccion (Range)  consumo_energia (Range)  \\\n",
       "0                          62.0                     61.5   \n",
       "\n",
       "   velocidad_produccion (Cof_Var)  consumo_energia (Cof_Var)  \n",
       "0                        0.137516                   0.106415  "
      ]
     },
     "execution_count": 5,
     "metadata": {},
     "output_type": "execute_result"
    }
   ],
   "source": [
    "def get_dispersion_metrics(dataset):\n",
    "\n",
    "    columns = ['velocidad_produccion (STD)','consumo_energia (STD)','velocidad_produccion (VAR)','consumo_energia (VAR)','velocidad_produccion (Range)','consumo_energia (Range)','velocidad_produccion (Cof_Var)','consumo_energia (Cof_Var)',]\n",
    "\n",
    "    data = []\n",
    "\n",
    "    data.append(dataset['velocidad_produccion'].std())\n",
    "    data.append(dataset['consumo_energia'].std())\n",
    "    data.append(dataset['velocidad_produccion'].var())\n",
    "    data.append(dataset['consumo_energia'].var())\n",
    "    data.append(dataset['velocidad_produccion'].max() - dataset['velocidad_produccion'].min())\n",
    "    data.append(dataset['consumo_energia'].max() - dataset['consumo_energia'].min())\n",
    "    data.append(dataset['velocidad_produccion'].std() / dataset['velocidad_produccion'].mean())\n",
    "    data.append(dataset['consumo_energia'].std() / dataset['consumo_energia'].mean())\n",
    "\n",
    "    data = np.array(data).reshape(1,-1)\n",
    "\n",
    "    dataset = pd.DataFrame(columns=columns,data=data)\n",
    "\n",
    "    return dataset\n",
    "\n",
    "\n",
    "dataset_dispersion = get_dispersion_metrics(dataset_general)\n",
    "\n",
    "dataset_dispersion\n",
    "\n",
    "    "
   ]
  },
  {
   "cell_type": "code",
   "execution_count": 6,
   "metadata": {},
   "outputs": [
    {
     "data": {
      "text/html": [
       "<div>\n",
       "<style scoped>\n",
       "    .dataframe tbody tr th:only-of-type {\n",
       "        vertical-align: middle;\n",
       "    }\n",
       "\n",
       "    .dataframe tbody tr th {\n",
       "        vertical-align: top;\n",
       "    }\n",
       "\n",
       "    .dataframe thead th {\n",
       "        text-align: right;\n",
       "    }\n",
       "</style>\n",
       "<table border=\"1\" class=\"dataframe\">\n",
       "  <thead>\n",
       "    <tr style=\"text-align: right;\">\n",
       "      <th></th>\n",
       "      <th>velocidad_produccion (Asimetria)</th>\n",
       "      <th>consumo_energia (Asimetria)</th>\n",
       "      <th>velocidad_produccion (Curtosis)</th>\n",
       "      <th>consumo_energia (Curtosis)</th>\n",
       "    </tr>\n",
       "  </thead>\n",
       "  <tbody>\n",
       "    <tr>\n",
       "      <th>0</th>\n",
       "      <td>0.196527</td>\n",
       "      <td>0.14852</td>\n",
       "      <td>-0.29868</td>\n",
       "      <td>-0.547057</td>\n",
       "    </tr>\n",
       "  </tbody>\n",
       "</table>\n",
       "</div>"
      ],
      "text/plain": [
       "   velocidad_produccion (Asimetria)  consumo_energia (Asimetria)  \\\n",
       "0                          0.196527                      0.14852   \n",
       "\n",
       "   velocidad_produccion (Curtosis)  consumo_energia (Curtosis)  \n",
       "0                         -0.29868                   -0.547057  "
      ]
     },
     "execution_count": 6,
     "metadata": {},
     "output_type": "execute_result"
    }
   ],
   "source": [
    "def get_form_metrics(dataset):\n",
    "    \n",
    "    columns = ['velocidad_produccion (Asimetria)','consumo_energia (Asimetria)','velocidad_produccion (Curtosis)','consumo_energia (Curtosis)']\n",
    "\n",
    "    data = []\n",
    "\n",
    "    data.append(dataset['velocidad_produccion'].skew())\n",
    "    data.append(dataset['consumo_energia'].skew())\n",
    "    data.append(dataset['velocidad_produccion'].kurtosis())\n",
    "    data.append(dataset['consumo_energia'].kurtosis())\n",
    "\n",
    "    \n",
    "    data = np.array(data).reshape(1,-1)\n",
    "\n",
    "    dataset = pd.DataFrame(columns=columns,data=data)\n",
    "\n",
    "    return dataset\n",
    "\n",
    "\n",
    "dataset_form = get_form_metrics(dataset_general)\n",
    "\n",
    "\n",
    "dataset_form\n"
   ]
  },
  {
   "cell_type": "markdown",
   "metadata": {},
   "source": [
    "### Historigrama"
   ]
  },
  {
   "cell_type": "code",
   "execution_count": 21,
   "metadata": {},
   "outputs": [
    {
     "data": {
      "image/png": "[encoded data removed]",
      "text/plain": [
       "<Figure size 640x480 with 1 Axes>"
      ]
     },
     "metadata": {},
     "output_type": "display_data"
    }
   ],
   "source": [
    "import matplotlib.pyplot as plt \n",
    "\n",
    "fig, ax_hist = plt.subplots()\n",
    "\n",
    "\n",
    "def create_hist():\n",
    "    #Creamos el diagrama el historigrama\n",
    "    ax_hist.hist([dataset_general['velocidad_produccion'], dataset_general['consumo_energia']], #El primer argumento es la lista de los 2\n",
    "                bins=20, alpha=0.7, label=['Velocidad de produccion', 'consumo de energia'],\n",
    "                color=['khaki', 'yellowgreen']) #Aqui lo mismo\n",
    "\n",
    "    # Etiquetas y texto\n",
    "    ax_hist.set_xlabel('Valores')\n",
    "    ax_hist.set_ylabel('Frecuencia')\n",
    "    ax_hist.set_title('Histograma de Velocidad de produccion y Consumo de energia')\n",
    "    ax_hist.legend()\n",
    "    plt.show()\n",
    "\n",
    "\n",
    "create_hist()"
   ]
  },
  {
   "cell_type": "code",
   "execution_count": 34,
   "metadata": {},
   "outputs": [
    {
     "data": {
      "image/png": "[encoded data removed]",
      "text/plain": [
       "<Figure size 640x480 with 1 Axes>"
      ]
     },
     "metadata": {},
     "output_type": "display_data"
    },
    {
     "name": "stdout",
     "output_type": "stream",
     "text": [
      "Visualmente podemos ver que hay un correlacion lineal positiva de las variables \n"
     ]
    }
   ],
   "source": [
    "def create_scatter(dataset):\n",
    "    #Creamos la instancia\n",
    "    fig, ax_scatter = plt.subplots()\n",
    "\n",
    "    #Se crea el grafico de dispersion\n",
    "    ax_scatter.scatter(dataset['velocidad_produccion'],dataset['consumo_energia'],\n",
    "                    alpha=0.7, \n",
    "                    label='Velocidad de produccion vs consumo de energia',s=100,color='yellowgreen')\n",
    "\n",
    "    ax_scatter.set_xlabel('Velocidad de produccion')\n",
    "    ax_scatter.set_ylabel(\"Consumo de energia\")\n",
    "    \n",
    "    ax_scatter.set_title(\"Grafico de dispersion\")\n",
    "    ax_scatter.legend()\n",
    "    plt.show()\n",
    "\n",
    "\n",
    "create_scatter(dataset_general)\n",
    "print('Visualmente podemos ver que hay un correlacion lineal positiva de las variables ')"
   ]
  },
  {
   "cell_type": "markdown",
   "metadata": {},
   "source": [
    "#### Interpretar mas a detalle en la pagina web"
   ]
  },
  {
   "cell_type": "markdown",
   "metadata": {},
   "source": [
    "## b) Determine el coeficiente de correlación entre el consumo energético y la velocidad de producción:"
   ]
  },
  {
   "cell_type": "code",
   "execution_count": 44,
   "metadata": {},
   "outputs": [
    {
     "name": "stdout",
     "output_type": "stream",
     "text": [
      "El coeficiente de correlacion entre las 2 variables es de 0.764,\n",
      "por lo tanto hay CORRELACION LINEAL ALTA.\n"
     ]
    }
   ],
   "source": [
    "cof_correlation = np.corrcoef(dataset_general['velocidad_produccion'],dataset_general['consumo_energia'])\n",
    "\n",
    "print(f'El coeficiente de correlacion entre las 2 variables es de {np.round(cof_correlation[0,1],3)},\\npor lo tanto hay CORRELACION LINEAL ALTA.')\n"
   ]
  },
  {
   "cell_type": "markdown",
   "metadata": {},
   "source": [
    "### Realice una prueba de hipótesis para determinar si la correlación es estadísticamente significativa"
   ]
  },
  {
   "cell_type": "code",
   "execution_count": null,
   "metadata": {},
   "outputs": [],
   "source": [
    "#TO DO"
   ]
  },
  {
   "cell_type": "markdown",
   "metadata": {},
   "source": [
    "### Interprete el resultado en el contexto del problema (Pagina web)"
   ]
  },
  {
   "cell_type": "markdown",
   "metadata": {},
   "source": [
    "## Crear una regresion lineal"
   ]
  },
  {
   "cell_type": "code",
   "execution_count": null,
   "metadata": {},
   "outputs": [],
   "source": [
    "from sklearn.model_selection import train_test_split\n",
    "from sklearn.linear_model import LinearRegression\n",
    "import numpy as np\n",
    "import pandas as pd\n"
   ]
  },
  {
   "cell_type": "code",
   "execution_count": 45,
   "metadata": {},
   "outputs": [
    {
     "name": "stdout",
     "output_type": "stream",
     "text": [
      "\n",
      "--- Evaluación de modelos (R² con cross-validation) ---\n",
      "\n",
      "Regresión Lineal: R² promedio = 0.4171\n",
      "Ridge: R² promedio = 0.4171\n",
      "Lasso: R² promedio = 0.4171\n",
      "\n",
      "✅ Modelo recomendado: Regresión Lineal\n"
     ]
    },
    {
     "data": {
      "text/plain": [
       "'Regresión Lineal'"
      ]
     },
     "execution_count": 45,
     "metadata": {},
     "output_type": "execute_result"
    }
   ],
   "source": [
    "from sklearn.linear_model import LinearRegression, Ridge, Lasso\n",
    "from sklearn.model_selection import cross_val_score\n",
    "import numpy as np\n",
    "\n",
    "def recomendar_modelo_regresion(df, var_x, var_y):\n",
    "    X = df[[var_x]].values\n",
    "    y = df[var_y].values\n",
    "\n",
    "    modelos = {\n",
    "        'Regresión Lineal': LinearRegression(),\n",
    "        'Ridge': Ridge(alpha=1.0),\n",
    "        'Lasso': Lasso(alpha=0.1)\n",
    "    }\n",
    "\n",
    "    resultados = {}\n",
    "\n",
    "    print(\"\\n--- Evaluación de modelos (R² con cross-validation) ---\\n\")\n",
    "    for nombre, modelo in modelos.items():\n",
    "        scores = cross_val_score(modelo, X, y, cv=5, scoring='r2')\n",
    "        promedio = np.mean(scores)\n",
    "        resultados[nombre] = promedio\n",
    "        print(f\"{nombre}: R² promedio = {promedio:.4f}\")\n",
    "\n",
    "    mejor_modelo = max(resultados, key=resultados.get)\n",
    "    print(f\"\\n✅ Modelo recomendado: {mejor_modelo}\")\n",
    "\n",
    "    return mejor_modelo\n",
    "\n",
    "\n",
    "recomendar_modelo_regresion(dataset_general,'velocidad_produccion','consumo_energia')"
   ]
  }
 ],
 "metadata": {
  "kernelspec": {
   "display_name": "poisson",
   "language": "python",
   "name": "python3"
  },
  "language_info": {
   "codemirror_mode": {
    "name": "ipython",
    "version": 3
   },
   "file_extension": ".py",
   "mimetype": "text/x-python",
   "name": "python",
   "nbconvert_exporter": "python",
   "pygments_lexer": "ipython3",
   "version": "3.11.4"
  }
 },
 "nbformat": 4,
 "nbformat_minor": 2
}
